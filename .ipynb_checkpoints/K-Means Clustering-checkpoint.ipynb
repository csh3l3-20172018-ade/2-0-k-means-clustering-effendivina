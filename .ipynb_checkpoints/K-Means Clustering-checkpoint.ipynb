{
 "cells": [
  {
   "cell_type": "code",
   "execution_count": 7,
   "metadata": {},
   "outputs": [],
   "source": [
    "import numpy as np\n",
    "from sklearn.cluster import KMeans\n",
    "import matplotlib.pyplot as plt"
   ]
  },
  {
   "cell_type": "code",
   "execution_count": 8,
   "metadata": {},
   "outputs": [],
   "source": [
    "#fungsi load data\n",
    "def load_data(file):\n",
    "    return np.loadtxt(file)"
   ]
  },
  {
   "cell_type": "code",
   "execution_count": 9,
   "metadata": {},
   "outputs": [],
   "source": [
    "#fungsi euclidean sebagai method untuk mencari jarak\n",
    "def euclidean(a,b):\n",
    "    return np.linalg.norm(a-b)"
   ]
  },
  {
   "cell_type": "code",
   "execution_count": 21,
   "metadata": {},
   "outputs": [],
   "source": [
    "#fungsi utama kmeans dengan parameter jumlah cluster, centroid awal, dataset, jumlah instance, dan jumlah fitur\n",
    "def kmeans(k,centroids,dataset, n_instances, n_features):\n",
    "    #array history_centroid untuk menyimpan centroid pada setiap iterasi\n",
    "    history_centroids = []\n",
    "    #menggunakan euclidean untuk menghitung distance\n",
    "    distance = euclidean\n",
    "    #menyimpan centroid awal ke array history_centroids\n",
    "    history_centroids.append(centroids)\n",
    "    #membuat suatu array yang dapat menyimpan centroid lama \n",
    "    old_centroids = np.zeros(centroids.shape)\n",
    "    #array belongs_to adalah array yang menyimpan hasil cluster setiap instances\n",
    "    belongs_to = np.zeros((n_instances,1))\n",
    "    #norm merupakan selisih antara centroid sekarang dengan centroid lama\n",
    "    norm = distance(centroids,old_centroids)\n",
    "    iteration = 0\n",
    "    #looping sampai norm = 0 (konvergen)\n",
    "    while norm > 0:\n",
    "        iteration += 1\n",
    "        #menyimpan centroid ke variabel centroid lama\n",
    "        old_centroids = centroids\n",
    "        #hitung setiap instance di dataset\n",
    "        for idx_instance, instance in enumerate(dataset):\n",
    "            #membuat array dengan index = k\n",
    "            dist_vec = np.zeros((k,1))\n",
    "            #looping untuk setiap index\n",
    "            for idx_centroid, centroid in enumerate(centroids):\n",
    "                #menyimpan jarak antara centroid dan titik setiap instance\n",
    "                dist_vec[idx_centroid] = distance(centroid,instance)\n",
    "            #menyimpan data cluster sesuai dengan instance\n",
    "            belongs_to[idx_instance,0] = np.argmin(dist_vec)\n",
    "        #temp_centroid adalah array pembantu untuk mengupdate centroid baru\n",
    "        temp_centroids = np.zeros((k,n_features))\n",
    "        for idx in range(len(centroids)):\n",
    "            #mencari instance yang menjadi bagian dari cluster i\n",
    "            instance_close = [i for i in range(len(belongs_to)) if belongs_to[i] == idx]\n",
    "            #centroid di update dengan mencari rata-rata dari jarak centroid ke setiap titik instances di cluster tersebut\n",
    "            centroid = np.mean(dataset[instance_close],axis=0)\n",
    "            #menyimpan setiap centroid yang baru di update\n",
    "            temp_centroids[idx, :] = centroid\n",
    "        centroids = temp_centroids\n",
    "        #menambahkan centroid yang baru di update ke array history_centroids\n",
    "        history_centroids.append(temp_centroids)\n",
    "        #mencari nilai norm terbaru\n",
    "        norm = distance(centroids,old_centroids)\n",
    "    print(\"jumlah iterasi: \"+str(iteration))\n",
    "    return centroids, history_centroids, belongs_to"
   ]
  },
  {
   "cell_type": "code",
   "execution_count": 13,
   "metadata": {},
   "outputs": [
    {
     "data": {
      "text/plain": [
       "<function matplotlib.pyplot.show>"
      ]
     },
     "execution_count": 13,
     "metadata": {},
     "output_type": "execute_result"
    },
    {
     "data": {
      "image/png": "[encoded data removed]",
      "text/plain": [
       "<Figure size 432x288 with 1 Axes>"
      ]
     },
     "metadata": {},
     "output_type": "display_data"
    }
   ],
   "source": [
    "#merupakan elbow method dengan menggunakan lib sklearn\n",
    "wcss = []\n",
    "for i in range(1,16):\n",
    "    kmeans = KMeans(n_clusters = i, init = 'k-means++', max_iter = 500, n_init=10, random_state=0).fit(dataset)\n",
    "    wcss.append(kmeans.inertia_)\n",
    "plt.plot(range(1,16), wcss)\n",
    "plt.show"
   ]
  },
  {
   "cell_type": "code",
   "execution_count": 29,
   "metadata": {},
   "outputs": [
    {
     "name": "stdout",
     "output_type": "stream",
     "text": [
      "Centroid awal : \n",
      "[[32.5  24.7 ]\n",
      " [16.55  2.15]\n",
      " [29.15 20.55]\n",
      " [21.9  23.65]\n",
      " [16.4   8.7 ]\n",
      " [ 9.95 22.65]]\n",
      "jumlah iterasi: 10\n"
     ]
    },
    {
     "data": {
      "text/plain": [
       "array([3., 3., 3., 3., 3., 3., 3., 3., 3., 3., 3., 3., 3., 3., 3., 3., 3.,\n",
       "       3., 3., 3., 3., 3., 3., 3., 3., 3., 3., 3., 3., 3., 3., 3., 3., 3.,\n",
       "       3., 3., 3., 3., 3., 3., 5., 5., 5., 5., 5., 5., 5., 5., 5., 5., 5.,\n",
       "       5., 5., 5., 5., 5., 5., 5., 5., 5., 5., 5., 5., 5., 5., 5., 5., 5.,\n",
       "       5., 5., 5., 5., 5., 5., 5., 5., 5., 5., 5., 5., 5., 5., 5., 5., 5.,\n",
       "       5., 5., 5., 5., 5., 5., 5., 5., 5., 5., 5., 5., 5., 5., 5., 5., 5.,\n",
       "       5., 5., 5., 5., 5., 5., 5., 5., 5., 5., 5., 5., 5., 5., 5., 5., 5.,\n",
       "       5., 5., 5., 5., 5., 5., 5., 5., 5., 5., 5., 5., 5., 5., 5., 5., 5.,\n",
       "       5., 5., 5., 5., 5., 5., 5., 5., 5., 5., 5., 5., 5., 5., 5., 5., 5.,\n",
       "       5., 5., 5., 5., 5., 5., 5., 5., 5., 5., 5., 5., 5., 5., 5., 5., 5.,\n",
       "       5., 5., 5., 5., 5., 5., 5., 5., 5., 5., 5., 5., 5., 5., 5., 5., 2.,\n",
       "       2., 2., 2., 2., 2., 2., 2., 2., 2., 2., 2., 2., 2., 2., 2., 2., 2.,\n",
       "       2., 2., 2., 2., 2., 2., 2., 2., 2., 2., 2., 2., 2., 2., 2., 2., 2.,\n",
       "       2., 2., 2., 2., 2., 2., 2., 2., 2., 2., 2., 2., 2., 2., 2., 2., 2.,\n",
       "       2., 2., 2., 2., 2., 2., 2., 2., 2., 2., 2., 2., 2., 2., 2., 2., 2.,\n",
       "       2., 2., 2., 2., 2., 2., 2., 2., 2., 2., 2., 2., 2., 2., 2., 2., 2.,\n",
       "       2., 2., 2., 2., 2., 1., 1., 1., 1., 1., 1., 1., 1., 1., 1., 1., 1.,\n",
       "       4., 4., 4., 4., 4., 4., 4., 1., 1., 1., 1., 1., 1., 1., 1., 1., 1.,\n",
       "       1., 1., 1., 1., 1., 1., 1., 1., 1., 1., 1., 4., 4., 4., 4., 4., 4.,\n",
       "       4., 4., 4., 1., 1., 1., 1., 1., 1., 1., 1., 1., 1., 1., 1., 1., 1.,\n",
       "       1., 1., 1., 1., 1., 1., 1., 1., 1., 1., 1., 1., 1., 4., 1., 4., 1.,\n",
       "       4., 4., 4., 4., 4., 4., 4., 4., 4., 4., 4., 4., 4., 4., 4., 4., 4.,\n",
       "       4., 4., 4., 4., 4., 4., 4., 4., 4., 4., 4., 4., 4., 4., 4., 4., 4.,\n",
       "       4., 4., 4., 4., 4., 4., 4., 4., 4., 4., 4., 4., 4., 4., 4., 4., 4.,\n",
       "       4., 4., 4., 4., 4., 4., 4., 4., 4., 4., 4., 4., 4., 4., 4., 4., 4.,\n",
       "       4., 4., 4., 4., 4., 4., 4., 4., 4., 4., 4., 4., 4., 4., 4., 4., 4.,\n",
       "       4., 4., 4., 4., 4., 4., 4., 4., 4., 4., 4., 4., 4., 4., 4., 4., 4.,\n",
       "       4., 4., 4., 4., 4., 4., 4., 4., 4., 4., 4., 4., 4., 4., 4., 4., 4.,\n",
       "       4., 4., 4., 4., 4., 4., 4., 4., 4., 4., 4., 4., 4., 4., 4., 4., 4.,\n",
       "       4., 4., 4., 4., 4., 4., 4., 4., 4., 4., 4., 4., 4., 4., 4., 4., 4.,\n",
       "       4., 4., 4., 4., 4., 4., 4., 1., 1., 1., 1., 1., 1., 1., 1., 1., 1.,\n",
       "       1., 1., 1., 1., 1., 1., 1., 1., 1., 1., 1., 1., 1., 1., 1., 1., 1.,\n",
       "       1., 1., 1., 2., 2., 0., 0., 0., 0., 0., 0., 0., 0., 0., 0., 0., 0.,\n",
       "       0., 0., 0., 0., 0., 0., 0., 0., 0., 0., 0., 0., 0., 0., 0., 0., 0.,\n",
       "       0., 0., 0., 0., 0., 0., 0., 0., 0., 0., 0., 0., 0., 0., 0., 0., 0.,\n",
       "       0., 0., 0., 0., 0., 0., 0., 0., 0., 0., 0., 0., 0., 0., 0., 0., 0.,\n",
       "       0., 0., 0., 0., 0., 0., 0., 0., 0., 0., 0., 0., 0., 0., 0., 0., 0.,\n",
       "       0., 0., 0., 0., 0., 0., 0., 0., 0., 0., 0., 0., 0., 0., 0., 0., 0.,\n",
       "       0., 0., 0., 0., 0., 0., 0., 0., 0., 0., 0., 0., 0., 1., 1., 1., 1.,\n",
       "       1., 1., 1., 1., 1., 1., 1., 1., 1., 1., 1., 1., 1., 1., 1., 1., 1.,\n",
       "       1., 1., 1., 1., 1., 1., 1., 1.])"
      ]
     },
     "execution_count": 29,
     "metadata": {},
     "output_type": "execute_result"
    }
   ],
   "source": [
    "#load dataset\n",
    "dataset = load_data('TrainsetTugas2.txt')\n",
    "#mencari jumlah instance dan fitur\n",
    "n_instances, n_features = dataset.shape\n",
    "#merandom centroids awal dari titik yang ada\n",
    "centroids = dataset[np.random.randint(0,n_instances-1, size=6)]\n",
    "print(\"Centroid awal : \")\n",
    "print(centroids)\n",
    "final_centroids, history_of_centroids, belongs_to_centroid = kmeans(6,centroids,dataset,n_instances, n_features)\n",
    "#merubah bentuk dimensi array \n",
    "arr_cluster = np.array(belongs_to_centroid)\n",
    "arr_cluster.resize(688,)\n",
    "arr_cluster"
   ]
  },
  {
   "cell_type": "code",
   "execution_count": 30,
   "metadata": {},
   "outputs": [
    {
     "data": {
      "image/png": "[encoded data removed]",
      "text/plain": [
       "<Figure size 432x288 with 1 Axes>"
      ]
     },
     "metadata": {},
     "output_type": "display_data"
    }
   ],
   "source": [
    "#plot data sesuai cluster\n",
    "plt.scatter(dataset[arr_cluster==0,0], dataset[arr_cluster==0,1], s=15, c='red', label='Cluster 1')\n",
    "plt.scatter(dataset[arr_cluster==1,0], dataset[arr_cluster==1,1], s=15, c='blue', label='Cluster 2')\n",
    "plt.scatter(dataset[arr_cluster==2,0], dataset[arr_cluster==2,1], s=15, c='green', label='Cluster 3')\n",
    "plt.scatter(dataset[arr_cluster==3,0], dataset[arr_cluster==3,1], s=15, c='plum', label='Cluster 4')\n",
    "plt.scatter(dataset[arr_cluster==4,0], dataset[arr_cluster==4,1], s=15, c='lime', label='Cluster 5')\n",
    "plt.scatter(dataset[arr_cluster==5,0], dataset[arr_cluster==5,1], s=15, c='salmon', label='Cluster 6')\n",
    "plt.scatter(final_centroids[:,0], final_centroids[:,1], s=15, c='yellow',label='Centroids')\n",
    "plt.show()"
   ]
  },
  {
   "cell_type": "code",
   "execution_count": null,
   "metadata": {},
   "outputs": [],
   "source": []
  }
 ],
 "metadata": {
  "kernelspec": {
   "display_name": "Python 3",
   "language": "python",
   "name": "python3"
  },
  "language_info": {
   "codemirror_mode": {
    "name": "ipython",
    "version": 3
   },
   "file_extension": ".py",
   "mimetype": "text/x-python",
   "name": "python",
   "nbconvert_exporter": "python",
   "pygments_lexer": "ipython3",
   "version": "3.6.4"
  }
 },
 "nbformat": 4,
 "nbformat_minor": 2
}
