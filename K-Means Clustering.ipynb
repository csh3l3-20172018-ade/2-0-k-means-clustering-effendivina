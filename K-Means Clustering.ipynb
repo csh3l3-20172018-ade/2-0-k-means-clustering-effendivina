{
 "cells": [
  {
   "cell_type": "markdown",
   "metadata": {},
   "source": [
    "# K-MEANS CLUSTERING"
   ]
  },
  {
   "cell_type": "markdown",
   "metadata": {},
   "source": [
    "## What is Clustering and K-Means?"
   ]
  },
  {
   "cell_type": "markdown",
   "metadata": {},
   "source": [
    "Clustering - A typical and well-known type of unsupervised learning. Clustering algorithms try to find natural groupings in data. Similar data points (according to some notion of similarity) are considered in the same group. We call these groups clusters.\n",
    "\n",
    "K-Means clustering is a simple and widely-used clustering algorithm. Given value of k , it tries to build k clusters from samples in the dataset."
   ]
  },
  {
   "cell_type": "markdown",
   "metadata": {},
   "source": [
    "### How does it work?"
   ]
  },
  {
   "cell_type": "markdown",
   "metadata": {},
   "source": [
    "![alt text](http://i.imgur.com/nIhdPrS.jpg \\\"Logo Title Text 1\\\")\n"
   ]
  },
  {
   "cell_type": "markdown",
   "metadata": {},
   "source": [
    "Given K, the K-means algorithm works as follows:\n",
    "\n",
    "    1.Randomly choose K data points (seeds) to be the initial centroids\n",
    "    2.Assign each data point to the closest centroid\n",
    "    3.Re-compute (update) the centroids using the current cluster memberships\n",
    "    4.If a convergence criterion is not met, go to step 2\n",
    "\n",
    " We can also terminate the algorithm when it reaches an iteration budget, which yields an approximate result. The algorithm is sensitive to the order in which data samples are explored, so run it several times to get varied orders, then average the cluster centers from each run and input those centers as ones for one final run analysis."
   ]
  },
  {
   "cell_type": "markdown",
   "metadata": {},
   "source": [
    "### How to determine the best value for k?"
   ]
  },
  {
   "cell_type": "markdown",
   "metadata": {},
   "source": [
    "If you don't know how many cluster you want, use one of the method, **Elbow Method**.\n",
    "\n",
    "One method to validate the number of clusters is the Elbow Method. The idea of the elbow method is to run k-means clustering on the dataset for a range of values of k, and for each value of k calculate the sum of squared errors(SSE)"
   ]
  },
  {
   "cell_type": "markdown",
   "metadata": {},
   "source": [
    "### The Spesification of The Problem"
   ]
  },
  {
   "cell_type": "markdown",
   "metadata": {},
   "source": [
    "    1. Data Set\n",
    "       In this problem, my data is divided by two. First one is Data Train and the visualization is like this:\n",
    "![dataTrain](DataTrain.jpg)\n",
    "       The second one is data test and the visualization is like this\n",
    "![dataTes](DataTes.jpg)"
   ]
  },
  {
   "cell_type": "markdown",
   "metadata": {},
   "source": [
    "    2. Library\n",
    "       Some of libraries I use are :\n",
    "* Numpy\n",
    "* Matplotlib\n",
    "* Scikit-Learn"
   ]
  },
  {
   "cell_type": "code",
   "execution_count": 62,
   "metadata": {},
   "outputs": [],
   "source": [
    "import numpy as np\n",
    "from sklearn.cluster import KMeans\n",
    "import matplotlib.pyplot as plt"
   ]
  },
  {
   "cell_type": "markdown",
   "metadata": {},
   "source": [
    "I will load my data with Numpy:"
   ]
  },
  {
   "cell_type": "code",
   "execution_count": 63,
   "metadata": {},
   "outputs": [],
   "source": [
    "#fungsi load data\n",
    "def load_data(file):\n",
    "    return np.loadtxt(file)"
   ]
  },
  {
   "cell_type": "code",
   "execution_count": 64,
   "metadata": {},
   "outputs": [],
   "source": [
    "def save_data(filename,a):\n",
    "    np.savetxt(filename,a)"
   ]
  },
  {
   "cell_type": "markdown",
   "metadata": {},
   "source": [
    "    3. Method\n",
    "    To find the distance between 2 points, I used an usual method, Euclidean Distance. The equation is\n",
    "![euclidean](https://wikimedia.org/api/rest_v1/media/math/render/svg/dc0281a964ec758cca02ab9ef91a7f54ac00d4b7)"
   ]
  },
  {
   "cell_type": "code",
   "execution_count": 65,
   "metadata": {},
   "outputs": [],
   "source": [
    "#fungsi euclidean sebagai method untuk mencari jarak\n",
    "def euclidean(a,b):\n",
    "    return np.linalg.norm(a-b)"
   ]
  },
  {
   "cell_type": "markdown",
   "metadata": {},
   "source": [
    "   The second method I use is a method to find a best value of *k*. The method is **Elbow Method**. I use a library named Scikit-Learn to help me to find the best value of *k*. In this problem I set the value of *k* is 6. Because, I analyze that after 6 cluster, the difference value between SSE is insignificant. "
   ]
  },
  {
   "cell_type": "code",
   "execution_count": 66,
   "metadata": {},
   "outputs": [
    {
     "data": {
      "text/plain": [
       "<function matplotlib.pyplot.show>"
      ]
     },
     "execution_count": 66,
     "metadata": {},
     "output_type": "execute_result"
    },
    {
     "data": {
      "image/png": "[encoded data removed]",
      "text/plain": [
       "<Figure size 1440x576 with 1 Axes>"
      ]
     },
     "metadata": {},
     "output_type": "display_data"
    }
   ],
   "source": [
    "#load dataset\n",
    "datasetTrain = load_data('TrainsetTugas2.txt')\n",
    "#merupakan elbow method dengan menggunakan lib sklearn\n",
    "wcss = []\n",
    "for i in range(1,16):\n",
    "    kmeans = KMeans(n_clusters = i, init = 'k-means++', max_iter = 500, n_init=10, random_state=0).fit(datasetTrain)\n",
    "    wcss.append(kmeans.inertia_)\n",
    "plt.figure(figsize=(20,8))\n",
    "plt.plot(range(1,16), wcss)\n",
    "plt.show"
   ]
  },
  {
   "cell_type": "markdown",
   "metadata": {},
   "source": [
    "    4. K-Means Algorithm"
   ]
  },
  {
   "cell_type": "code",
   "execution_count": 67,
   "metadata": {},
   "outputs": [],
   "source": [
    "#fungsi utama kmeans dengan parameter jumlah cluster, centroid awal, dataset, jumlah instance, dan jumlah fitur\n",
    "def kmeans(k,centroids,dataset, n_instances, n_features):\n",
    "    #array history_centroid untuk menyimpan centroid pada setiap iterasi\n",
    "    history_centroids = []\n",
    "    #menggunakan euclidean untuk menghitung distance\n",
    "    distance = euclidean\n",
    "    #menyimpan centroid awal ke array history_centroids\n",
    "    history_centroids.append(centroids)\n",
    "    #membuat suatu array yang dapat menyimpan centroid lama \n",
    "    old_centroids = np.zeros(centroids.shape)\n",
    "    #array belongs_to adalah array yang menyimpan hasil cluster setiap instances\n",
    "    belongs_to = np.zeros((n_instances,1))\n",
    "    #norm merupakan selisih antara centroid sekarang dengan centroid lama\n",
    "    norm = distance(centroids,old_centroids)\n",
    "    iteration = 0\n",
    "    #looping sampai norm = 0 (konvergen)\n",
    "    while norm > 0:\n",
    "        iteration += 1\n",
    "        #menyimpan centroid ke variabel centroid lama\n",
    "        old_centroids = centroids\n",
    "        #hitung setiap instance di dataset\n",
    "        for idx_instance, instance in enumerate(dataset):\n",
    "            #membuat array dengan index = k\n",
    "            dist_vec = np.zeros((k,1))\n",
    "            #looping untuk setiap index\n",
    "            for idx_centroid, centroid in enumerate(centroids):\n",
    "                #menyimpan jarak antara centroid dan titik setiap instance\n",
    "                dist_vec[idx_centroid] = distance(centroid,instance)\n",
    "            #menyimpan data cluster sesuai dengan instance\n",
    "            belongs_to[idx_instance,0] = np.argmin(dist_vec)\n",
    "        #temp_centroid adalah array pembantu untuk mengupdate centroid baru\n",
    "        temp_centroids = np.zeros((k,n_features))\n",
    "        for idx in range(len(centroids)):\n",
    "            #mencari instance yang menjadi bagian dari cluster i\n",
    "            instance_close = [i for i in range(len(belongs_to)) if belongs_to[i] == idx]\n",
    "            #centroid di update dengan mencari rata-rata dari jarak centroid ke setiap titik instances di cluster tersebut\n",
    "            centroid = np.mean(dataset[instance_close],axis=0)\n",
    "            #menyimpan setiap centroid yang baru di update\n",
    "            temp_centroids[idx, :] = centroid\n",
    "        centroids = temp_centroids\n",
    "        #menambahkan centroid yang baru di update ke array history_centroids\n",
    "        history_centroids.append(temp_centroids)\n",
    "        #mencari nilai norm terbaru\n",
    "        norm = distance(centroids,old_centroids)\n",
    "    #print(\"jumlah iterasi: \"+str(iteration))\n",
    "    return centroids, belongs_to"
   ]
  },
  {
   "cell_type": "code",
   "execution_count": 68,
   "metadata": {},
   "outputs": [],
   "source": [
    "#fungsi yang digunakan menghitung jarak antara seluruh centroids dan titik anggota cluster\n",
    "def sum_of_distance(dataset,centroids,belongs_to):\n",
    "    total_sum=0\n",
    "    #looping pada centroid\n",
    "    for idx_cen,cen in enumerate(centroids):\n",
    "        #memilih titik canggota cluster yang sesuai dengan idx_cen\n",
    "        instance_close = [i for i in range(len(belongs_to)) if belongs_to[i] == idx_cen]\n",
    "        #looping pada array instance_close\n",
    "        for idx_inst, inst in enumerate(instance_close):\n",
    "            #menghitung distance antara anggota cluster dan centroidnya\n",
    "            dist = euclidean(cen,inst)\n",
    "            total_sum += dist\n",
    "    return total_sum"
   ]
  },
  {
   "cell_type": "code",
   "execution_count": 69,
   "metadata": {},
   "outputs": [],
   "source": [
    "#fungsi untuk menvisualisasikan hasil cluster\n",
    "def plot(dataset,arr_cluster,final_centroids):\n",
    "    #plot data sesuai cluster\n",
    "    plt.scatter(dataset[arr_cluster==0,0], dataset[arr_cluster==0,1], s=15, c='red', label='Cluster 1')\n",
    "    plt.scatter(dataset[arr_cluster==1,0], dataset[arr_cluster==1,1], s=15, c='blue', label='Cluster 2')\n",
    "    plt.scatter(dataset[arr_cluster==2,0], dataset[arr_cluster==2,1], s=15, c='green', label='Cluster 3')\n",
    "    plt.scatter(dataset[arr_cluster==3,0], dataset[arr_cluster==3,1], s=15, c='darkcyan', label='Cluster 4')\n",
    "    plt.scatter(dataset[arr_cluster==4,0], dataset[arr_cluster==4,1], s=15, c='darkmagenta', label='Cluster 5')\n",
    "    plt.scatter(dataset[arr_cluster==5,0], dataset[arr_cluster==5,1], s=15, c='saddlebrown', label='Cluster 6')\n",
    "    plt.scatter(final_centroids[:,0], final_centroids[:,1], s=15, c='black',label='Centroids')\n",
    "    plt.show()"
   ]
  },
  {
   "cell_type": "code",
   "execution_count": 95,
   "metadata": {},
   "outputs": [],
   "source": [
    "def execute(dataset):\n",
    "    #mencari jumlah instance dan fitur\n",
    "    n_instances, n_features = dataset.shape\n",
    "    #lopping dilakukan sebanyak 10 kali\n",
    "    n_iter=10\n",
    "    best_of_sum = 99999999\n",
    "    for iter in range(0,n_iter):\n",
    "        #menentukan centroid\n",
    "        centroids = dataset[np.random.randint(0,n_instances-1, size=6)]\n",
    "        #memanggil fungsi kmeans\n",
    "        final_centroids, belongs_to_centroid = kmeans(6,centroids,dataset,n_instances, n_features)\n",
    "        #memanggil fungsi sum_of_distance\n",
    "        total_sum = sum_of_distance(dataset,final_centroids,belongs_to_centroid)\n",
    "        #mengganti ukuran array\n",
    "        arr_cluster = np.array(belongs_to_centroid)\n",
    "        arr_cluster.resize(n_instances,)\n",
    "        #print(arr_cluster)\n",
    "        #membandingkan total jarak yang baru dan yang terbaik sebelumnya\n",
    "        if (best_of_sum > total_sum):\n",
    "            #mengganti var best_of_sum, best_of_cluster, best_of_centroids yang total jaraknya lebih rendah\n",
    "            best_of_sum = total_sum\n",
    "            best_of_cluster = arr_cluster\n",
    "            best_of_centroids = final_centroids\n",
    "    #menampilkan hasil cluster dan jarak terbaik\n",
    "    print(\"Best of Cluster: \")\n",
    "    print(best_of_cluster)\n",
    "    print(\"Best Distance: \"+str(best_of_sum))\n",
    "    #memanggil fungsi plot\n",
    "    plot(dataset,arr_cluster,final_centroids)\n",
    "    return best_of_cluster"
   ]
  },
  {
   "cell_type": "markdown",
   "metadata": {},
   "source": [
    "I analyze that the program is a little not constant. And the result after I run the program with my data train set is like this:"
   ]
  },
  {
   "cell_type": "code",
   "execution_count": 96,
   "metadata": {
    "scrolled": false
   },
   "outputs": [
    {
     "name": "stderr",
     "output_type": "stream",
     "text": [
      "c:\\users\\effen\\appdata\\local\\programs\\python\\python36\\lib\\site-packages\\numpy\\core\\fromnumeric.py:2957: RuntimeWarning: Mean of empty slice.\n",
      "  out=out, **kwargs)\n",
      "c:\\users\\effen\\appdata\\local\\programs\\python\\python36\\lib\\site-packages\\numpy\\core\\_methods.py:73: RuntimeWarning: invalid value encountered in true_divide\n",
      "  ret, rcount, out=ret, casting='unsafe', subok=False)\n"
     ]
    },
    {
     "name": "stdout",
     "output_type": "stream",
     "text": [
      "Best of Cluster: \n",
      "[3. 3. 3. 3. 3. 3. 3. 3. 3. 3. 3. 3. 3. 3. 3. 3. 3. 3. 3. 3. 3. 3. 3. 3.\n",
      " 3. 3. 3. 3. 3. 3. 3. 3. 3. 3. 3. 3. 3. 3. 3. 3. 3. 3. 3. 3. 3. 3. 3. 3.\n",
      " 3. 3. 3. 3. 3. 3. 3. 3. 3. 3. 3. 3. 3. 3. 0. 0. 0. 0. 0. 0. 0. 0. 0. 0.\n",
      " 0. 0. 0. 0. 0. 0. 0. 0. 0. 0. 0. 0. 0. 0. 0. 0. 0. 0. 0. 0. 0. 0. 0. 0.\n",
      " 0. 0. 0. 0. 0. 0. 0. 0. 0. 0. 0. 0. 0. 0. 0. 0. 0. 0. 0. 0. 0. 0. 0. 0.\n",
      " 0. 0. 0. 0. 0. 0. 0. 0. 0. 0. 0. 0. 0. 0. 0. 0. 0. 0. 0. 0. 0. 0. 0. 0.\n",
      " 0. 0. 0. 0. 0. 0. 0. 0. 3. 0. 0. 0. 0. 0. 0. 0. 0. 0. 0. 0. 3. 0. 0. 0.\n",
      " 0. 0. 0. 0. 0. 0. 0. 0. 0. 0. 0. 0. 0. 3. 3. 0. 0. 0. 1. 1. 1. 1. 1. 1.\n",
      " 1. 1. 1. 1. 1. 1. 1. 1. 1. 1. 1. 1. 1. 1. 1. 1. 1. 1. 1. 1. 1. 1. 1. 1.\n",
      " 1. 1. 1. 1. 1. 1. 1. 1. 1. 1. 1. 1. 1. 1. 1. 1. 1. 1. 1. 1. 1. 1. 1. 1.\n",
      " 1. 1. 1. 1. 1. 1. 1. 1. 1. 1. 1. 1. 1. 1. 1. 1. 1. 1. 1. 1. 1. 1. 1. 1.\n",
      " 1. 1. 1. 1. 1. 1. 1. 1. 1. 1. 1. 1. 1. 0. 0. 0. 0. 0. 0. 0. 0. 0. 0. 0.\n",
      " 0. 3. 0. 0. 0. 0. 0. 0. 0. 0. 0. 0. 0. 0. 0. 2. 0. 0. 0. 0. 0. 5. 5. 0.\n",
      " 0. 0. 0. 0. 0. 0. 0. 0. 0. 0. 0. 0. 0. 0. 0. 0. 0. 0. 5. 5. 5. 5. 5. 2.\n",
      " 5. 5. 5. 5. 5. 5. 5. 5. 2. 5. 2. 5. 5. 5. 5. 5. 5. 5. 5. 5. 5. 5. 5. 5.\n",
      " 5. 5. 5. 5. 5. 5. 5. 5. 5. 5. 5. 5. 5. 5. 5. 5. 5. 5. 5. 5. 5. 5. 5. 5.\n",
      " 5. 5. 5. 5. 5. 5. 5. 5. 5. 5. 5. 5. 5. 5. 5. 5. 5. 5. 5. 5. 5. 0. 0. 5.\n",
      " 5. 5. 5. 5. 5. 5. 5. 5. 5. 5. 5. 5. 5. 5. 5. 5. 5. 0. 0. 0. 0. 0. 0. 0.\n",
      " 0. 0. 0. 0. 0. 0. 0. 0. 0. 5. 3. 5. 5. 5. 5. 5. 5. 3. 3. 3. 3. 3. 3. 3.\n",
      " 3. 3. 3. 3. 3. 3. 3. 3. 0. 0. 3. 3. 0. 3. 3. 3. 3. 3. 3. 3. 3. 3. 3. 3.\n",
      " 3. 3. 3. 3. 3. 3. 3. 3. 3. 3. 3. 3. 3. 3. 3. 3. 3. 3. 3. 3. 3. 3. 3. 3.\n",
      " 3. 3. 3. 3. 3. 3. 3. 3. 3. 3. 3. 3. 3. 2. 2. 2. 2. 2. 2. 2. 2. 2. 2. 2.\n",
      " 2. 2. 2. 2. 2. 2. 2. 2. 2. 2. 2. 2. 2. 2. 2. 2. 2. 2. 2. 1. 1. 1. 1. 1.\n",
      " 1. 1. 1. 1. 1. 1. 1. 1. 1. 1. 1. 1. 1. 1. 1. 1. 1. 1. 1. 1. 1. 1. 1. 1.\n",
      " 1. 1. 1. 1. 1. 1. 1. 1. 1. 1. 1. 1. 1. 1. 1. 1. 1. 1. 1. 1. 1. 1. 1. 1.\n",
      " 1. 1. 1. 1. 1. 1. 1. 1. 1. 1. 1. 1. 1. 1. 1. 1. 1. 1. 1. 1. 1. 1. 1. 1.\n",
      " 1. 1. 1. 1. 1. 1. 1. 1. 1. 1. 1. 1. 1. 1. 1. 1. 1. 1. 1. 1. 1. 1. 1. 1.\n",
      " 1. 1. 1. 1. 1. 1. 1. 1. 1. 1. 1. 0. 0. 0. 0. 0. 0. 0. 0. 2. 2. 2. 2. 2.\n",
      " 0. 0. 0. 0. 0. 0. 2. 2. 2. 2. 2. 2. 0. 0. 0. 0.]\n",
      "Best Distance: 318427.21642832155\n"
     ]
    },
    {
     "data": {
      "image/png": "[encoded data removed]",
      "text/plain": [
       "<Figure size 432x288 with 1 Axes>"
      ]
     },
     "metadata": {},
     "output_type": "display_data"
    }
   ],
   "source": [
    "result = execute(datasetTrain)\n",
    "save_data('HasilTrain.txt',result)"
   ]
  },
  {
   "cell_type": "markdown",
   "metadata": {},
   "source": [
    "## The Implementation to Data Test"
   ]
  },
  {
   "cell_type": "code",
   "execution_count": 97,
   "metadata": {},
   "outputs": [],
   "source": [
    "#load data test\n",
    "datasetTest = load_data('TestsetTugas2.txt')"
   ]
  },
  {
   "cell_type": "code",
   "execution_count": 98,
   "metadata": {},
   "outputs": [
    {
     "name": "stdout",
     "output_type": "stream",
     "text": [
      "Best of Cluster: \n",
      "[0. 0. 0. 0. 0. 4. 0. 0. 0. 0. 0. 0. 0. 0. 0. 0. 0. 0. 0. 0. 0. 0. 0. 0.\n",
      " 0. 0. 0. 0. 0. 5. 5. 5. 5. 5. 5. 5. 1. 1. 1. 1. 2. 3. 3. 2. 2. 3. 3. 3.\n",
      " 2. 2. 2. 3. 3. 3. 3. 3. 3. 3. 3. 3. 3. 3. 3. 3. 3. 3. 3. 3. 3. 3. 3. 3.\n",
      " 3. 2. 2. 2. 2. 1. 4. 4. 1. 4. 4. 4. 4. 4. 4. 4. 4. 4. 4. 4. 4. 4. 4. 2.\n",
      " 2. 2. 2. 2.]\n",
      "Best Distance: 5262.715466247784\n"
     ]
    },
    {
     "data": {
      "image/png": "[encoded data removed]",
      "text/plain": [
       "<Figure size 432x288 with 1 Axes>"
      ]
     },
     "metadata": {},
     "output_type": "display_data"
    }
   ],
   "source": [
    "result_test = execute(datasetTest)\n",
    "save_data('HasilTest.txt',result_test)"
   ]
  },
  {
   "cell_type": "markdown",
   "metadata": {},
   "source": [
    "## Result and Analysis"
   ]
  },
  {
   "cell_type": "markdown",
   "metadata": {},
   "source": [
    "The result of my program is in the HasilTrain.txt and HasilTest.txt file. And I analyze that K-Means is not always yield a constant result. It depends on the first centroids. But in my program, besides the loop to make my centroids converge, I also make another looping to run the main function of K-Means. The loop is to compare the result of SSE from the best one and another one. "
   ]
  },
  {
   "cell_type": "markdown",
   "metadata": {},
   "source": []
  }
 ],
 "metadata": {
  "kernelspec": {
   "display_name": "Python 3",
   "language": "python",
   "name": "python3"
  },
  "language_info": {
   "codemirror_mode": {
    "name": "ipython",
    "version": 3
   },
   "file_extension": ".py",
   "mimetype": "text/x-python",
   "name": "python",
   "nbconvert_exporter": "python",
   "pygments_lexer": "ipython3",
   "version": "3.6.4"
  }
 },
 "nbformat": 4,
 "nbformat_minor": 2
}
