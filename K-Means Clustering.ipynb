{
 "cells": [
  {
   "cell_type": "code",
   "execution_count": 12,
   "metadata": {},
   "outputs": [],
   "source": [
    "import numpy as np\n",
    "from sklearn.cluster import KMeans\n",
    "import matplotlib.pyplot as plt"
   ]
  },
  {
   "cell_type": "code",
   "execution_count": 2,
   "metadata": {},
   "outputs": [],
   "source": [
    "def load_data(file):\n",
    "    return np.loadtxt(file)"
   ]
  },
  {
   "cell_type": "code",
   "execution_count": 3,
   "metadata": {},
   "outputs": [],
   "source": [
    "def euclidean(a,b):\n",
    "    return np.linalg.norm(a-b)"
   ]
  },
  {
   "cell_type": "code",
   "execution_count": 15,
   "metadata": {},
   "outputs": [],
   "source": [
    "def kmeans(k,centroids,dataset, n_instances, n_features):\n",
    "    history_centroids = []\n",
    "    distance = euclidean\n",
    "    history_centroids.append(centroids)\n",
    "    old_centroids = np.zeros(centroids.shape)\n",
    "    belongs_to = np.zeros((n_instances,1))\n",
    "    norm = distance(centroids,old_centroids)\n",
    "    iteration = 0\n",
    "    while norm > 0:\n",
    "        iteration += 1\n",
    "        old_centroids = centroids\n",
    "        for idx_instance, instance in enumerate(dataset):\n",
    "            dist_vec = np.zeros((k,1))\n",
    "            for idx_centroid, centroid in enumerate(centroids):\n",
    "                dist_vec[idx_centroid] = distance(centroid,instance)\n",
    "                #dist_vec.append(distance(centroid,instance))\n",
    "            belongs_to[idx_instance,0] = np.argmin(dist_vec)\n",
    "            #belongs_to.append(np.argmin(dist_vec))\n",
    "        temp_centroids = np.zeros((k,n_features))\n",
    "        for idx in range(len(centroids)):\n",
    "            instance_close = [i for i in range(len(belongs_to)) if belongs_to[i] == idx]\n",
    "            centroid = np.mean(dataset[instance_close],axis=0)\n",
    "            temp_centroids[idx, :] = centroid\n",
    "        centroids = temp_centroids\n",
    "        history_centroids.append(temp_centroids)\n",
    "        norm = distance(centroids,old_centroids)\n",
    "    return centroids, history_centroids, belongs_to"
   ]
  },
  {
   "cell_type": "code",
   "execution_count": 13,
   "metadata": {},
   "outputs": [
    {
     "data": {
      "text/plain": [
       "<function matplotlib.pyplot.show>"
      ]
     },
     "execution_count": 13,
     "metadata": {},
     "output_type": "execute_result"
    },
    {
     "data": {
      "image/png": "[encoded data removed]",
      "text/plain": [
       "<Figure size 432x288 with 1 Axes>"
      ]
     },
     "metadata": {},
     "output_type": "display_data"
    }
   ],
   "source": [
    "wcss = []\n",
    "for i in range(1,16):\n",
    "    kmeans = KMeans(n_clusters = i, init = 'k-means++', max_iter = 500, n_init=10, random_state=0).fit(dataset)\n",
    "    wcss.append(kmeans.inertia_)\n",
    "plt.plot(range(1,16), wcss)\n",
    "plt.show"
   ]
  },
  {
   "cell_type": "code",
   "execution_count": 17,
   "metadata": {},
   "outputs": [
    {
     "name": "stdout",
     "output_type": "stream",
     "text": [
      "[[ 7.8   3.35]\n",
      " [11.4  18.3 ]\n",
      " [ 8.55 27.45]\n",
      " [19.25  6.6 ]\n",
      " [ 5.8  18.25]\n",
      " [11.85  9.8 ]]\n",
      "[2.] [2.] [2.] [2.] [2.] [2.] [2.] [2.] [2.] [2.] [2.] [2.] [2.] [2.] [2.] [2.] [2.] [2.] [2.] [2.] [2.] [2.] [2.] [2.] [2.] [2.] [2.] [2.] [2.] [2.] [2.] [2.] [2.] [2.] [2.] [2.] [2.] [2.] [2.] [2.] [4.] [4.] [4.] [4.] [4.] [4.] [4.] [4.] [4.] [4.] [4.] [4.] [4.] [4.] [4.] [4.] [4.] [4.] [4.] [4.] [4.] [4.] [4.] [4.] [4.] [4.] [4.] [4.] [4.] [4.] [4.] [4.] [4.] [4.] [4.] [4.] [4.] [4.] [4.] [4.] [4.] [4.] [4.] [4.] [4.] [4.] [4.] [4.] [4.] [4.] [4.] [4.] [4.] [4.] [4.] [4.] [4.] [4.] [4.] [4.] [4.] [4.] [4.] [4.] [4.] [4.] [4.] [4.] [4.] [4.] [4.] [4.] [4.] [4.] [4.] [4.] [4.] [4.] [4.] [4.] [4.] [4.] [4.] [4.] [4.] [4.] [4.] [4.] [4.] [4.] [4.] [4.] [4.] [4.] [4.] [4.] [4.] [4.] [4.] [4.] [4.] [4.] [4.] [4.] [4.] [4.] [4.] [4.] [4.] [4.] [4.] [4.] [4.] [4.] [4.] [4.] [4.] [4.] [4.] [4.] [4.] [4.] [4.] [4.] [4.] [4.] [4.] [4.] [4.] [4.] [4.] [4.] [4.] [4.] [4.] [4.] [4.] [4.] [4.] [4.] [4.] [4.] [2.] [4.] [4.] [4.] [3.] [3.] [3.] [3.] [3.] [3.] [3.] [3.] [3.] [3.] [3.] [3.] [3.] [3.] [3.] [3.] [3.] [3.] [3.] [3.] [3.] [3.] [3.] [3.] [3.] [3.] [3.] [3.] [3.] [3.] [3.] [3.] [3.] [3.] [3.] [3.] [3.] [3.] [3.] [3.] [3.] [3.] [3.] [3.] [3.] [3.] [3.] [3.] [3.] [3.] [3.] [3.] [3.] [3.] [3.] [3.] [3.] [3.] [3.] [3.] [3.] [3.] [3.] [3.] [3.] [3.] [3.] [3.] [3.] [3.] [3.] [3.] [3.] [3.] [3.] [3.] [3.] [3.] [3.] [3.] [3.] [3.] [3.] [3.] [3.] [3.] [3.] [3.] [3.] [3.] [3.] [0.] [0.] [0.] [0.] [0.] [0.] [0.] [0.] [0.] [0.] [0.] [0.] [5.] [5.] [5.] [5.] [5.] [5.] [5.] [0.] [0.] [0.] [0.] [0.] [0.] [0.] [0.] [0.] [0.] [0.] [0.] [0.] [0.] [0.] [0.] [0.] [0.] [0.] [0.] [0.] [5.] [5.] [5.] [5.] [5.] [5.] [5.] [5.] [5.] [0.] [0.] [0.] [0.] [0.] [0.] [0.] [0.] [0.] [0.] [0.] [0.] [0.] [0.] [0.] [0.] [0.] [0.] [0.] [0.] [0.] [0.] [0.] [0.] [0.] [0.] [0.] [5.] [0.] [5.] [0.] [5.] [5.] [5.] [5.] [5.] [5.] [5.] [5.] [5.] [5.] [5.] [5.] [5.] [5.] [5.] [5.] [5.] [5.] [5.] [5.] [5.] [5.] [5.] [5.] [5.] [5.] [5.] [5.] [5.] [5.] [5.] [5.] [5.] [5.] [5.] [5.] [5.] [5.] [5.] [5.] [5.] [5.] [5.] [5.] [5.] [5.] [5.] [5.] [5.] [5.] [5.] [5.] [5.] [5.] [5.] [5.] [5.] [5.] [5.] [5.] [5.] [5.] [5.] [5.] [5.] [5.] [5.] [5.] [5.] [5.] [5.] [5.] [5.] [5.] [5.] [5.] [5.] [5.] [5.] [5.] [5.] [5.] [5.] [5.] [5.] [5.] [5.] [5.] [5.] [5.] [5.] [5.] [5.] [5.] [5.] [5.] [5.] [5.] [5.] [5.] [5.] [5.] [5.] [5.] [5.] [5.] [5.] [5.] [5.] [5.] [5.] [5.] [5.] [5.] [5.] [5.] [5.] [5.] [5.] [5.] [5.] [5.] [5.] [5.] [5.] [5.] [5.] [5.] [5.] [5.] [5.] [5.] [5.] [5.] [5.] [5.] [5.] [5.] [5.] [5.] [5.] [5.] [5.] [5.] [5.] [5.] [5.] [5.] [5.] [5.] [5.] [5.] [5.] [5.] [5.] [5.] [5.] [5.] [5.] [5.] [0.] [0.] [0.] [0.] [0.] [0.] [0.] [0.] [0.] [0.] [0.] [0.] [0.] [0.] [0.] [0.] [0.] [0.] [0.] [0.] [0.] [0.] [0.] [0.] [0.] [0.] [0.] [0.] [0.] [0.] [3.] [3.] [1.] [1.] [1.] [1.] [1.] [1.] [1.] [1.] [1.] [1.] [1.] [1.] [1.] [1.] [1.] [1.] [1.] [1.] [1.] [1.] [1.] [1.] [1.] [1.] [1.] [1.] [1.] [1.] [1.] [1.] [1.] [1.] [1.] [1.] [1.] [1.] [1.] [1.] [1.] [1.] [1.] [1.] [1.] [1.] [1.] [1.] [1.] [1.] [1.] [1.] [1.] [1.] [1.] [1.] [1.] [1.] [1.] [1.] [1.] [1.] [1.] [1.] [1.] [1.] [1.] [1.] [1.] [1.] [1.] [1.] [1.] [1.] [1.] [1.] [1.] [1.] [1.] [1.] [1.] [1.] [1.] [1.] [1.] [1.] [1.] [1.] [1.] [1.] [1.] [1.] [1.] [1.] [1.] [1.] [1.] [1.] [1.] [1.] [1.] [1.] [1.] [1.] [1.] [1.] [1.] [1.] [1.] [1.] [1.] [1.] [0.] [0.] [0.] [0.] [0.] [0.] [0.] [0.] [0.] [0.] [0.] [0.] [0.] [0.] [0.] [0.] [0.] [0.] [0.] [0.] [0.] [0.] [0.] [0.] [0.] [0.] [0.] [0.] [0.] "
     ]
    }
   ],
   "source": [
    "dataset = load_data('TrainsetTugas2.txt')\n",
    "n_instances, n_features = dataset.shape\n",
    "centroids = dataset[np.random.randint(0,n_instances-1, size=6)]\n",
    "print(centroids)\n",
    "final_centroids, history_of_centroids, belongs_to_centroid = kmeans(6,centroids,dataset,n_instances, n_features)\n",
    "for i in belongs_to_centroid:\n",
    "    print(i,end=\" \")"
   ]
  },
  {
   "cell_type": "code",
   "execution_count": null,
   "metadata": {},
   "outputs": [],
   "source": []
  }
 ],
 "metadata": {
  "kernelspec": {
   "display_name": "Python 3",
   "language": "python",
   "name": "python3"
  },
  "language_info": {
   "codemirror_mode": {
    "name": "ipython",
    "version": 3
   },
   "file_extension": ".py",
   "mimetype": "text/x-python",
   "name": "python",
   "nbconvert_exporter": "python",
   "pygments_lexer": "ipython3",
   "version": "3.6.4"
  }
 },
 "nbformat": 4,
 "nbformat_minor": 2
}
